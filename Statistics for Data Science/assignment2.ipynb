{
 "cells": [
  {
   "cell_type": "markdown",
   "metadata": {
    "colab_type": "text",
    "id": "y8F-5tMKTQjL"
   },
   "source": [
    "## Assignment 2"
   ]
  },
  {
   "cell_type": "markdown",
   "metadata": {
    "colab_type": "text",
    "id": "07Y_ONdkTQjR"
   },
   "source": [
    "This assignmemt is based on content discussed in module 2 and will work on a solution for the famous Monty Hall game.  Retrieved from https://en.wikipedia.org/wiki/Monty_Hall_problem\n"
   ]
  },
  {
   "cell_type": "markdown",
   "metadata": {
    "colab_type": "text",
    "id": "7hNSzgdzTQjU"
   },
   "source": [
    "## Learning outcomes"
   ]
  },
  {
   "cell_type": "markdown",
   "metadata": {
    "colab_type": "text",
    "id": "2QtRX9sRTQjX"
   },
   "source": [
    "- Program a simple simulation to solve a concrete statistical problem\n",
    "- Develop insight into the Bayesian probabilistic viewpoint\n",
    "- Recognize that statistical intuition can sometimes be wrong\n"
   ]
  },
  {
   "cell_type": "markdown",
   "metadata": {
    "colab_type": "text",
    "id": "lfLffNUWTQja"
   },
   "source": [
    "** Question 1 **\n",
    "Given below is the description of the problem.  \n",
    "\n",
    "Suppose you're on a game show and you're given the choice of three doors. \n",
    "\n",
    "Behind one door is a car; behind the others, goats. The car and the goats were placed randomly behind the doors before the show.\n",
    "\n",
    "The rules are:\n",
    "\n",
    "After you have chosen a door, the door remains closed for the time being. \n",
    "The game show host, Monty Hall, who knows what is behind the doors, now has to open one of the two remaining doors, and the door he opens must have a goat behind it. If both remaining doors have goats behind them, he chooses one randomly. \n",
    "\n",
    "After Monty opens a door with a goat, he will ask you to decide whether you want to stay with your first choice or to switch to the last remaining door. \n",
    "Imagine that you chose Door 1 and the host opens Door 3, which has a goat. \n",
    "He then asks you \"Do you want to switch to Door Number 2?\" Is it to your advantage to change your choice? \n",
    "\n",
    "**NOTES:**\n",
    "1. The player may initially choose any of the three doors (not just Door 1).\n",
    "2. The host opens a different door revealing a goat (not necessarily Door 3).\n",
    "3. The host gives the player a second choice between the two remaining unopened doors. \n"
   ]
  },
  {
   "cell_type": "markdown",
   "metadata": {
    "colab_type": "text",
    "id": "L041acdjTQjb"
   },
   "source": [
    "![image.png](attachment:image.png)\n",
    "\n",
    "(Source: https://en.wikipedia.org/wiki/Monty_Hall_problem#/media/File:Monty_open_door.svg )\n",
    "\n",
    "[Monty hall problem ]"
   ]
  },
  {
   "cell_type": "markdown",
   "metadata": {
    "colab_type": "text",
    "id": "dAuGtwxzTQje"
   },
   "source": [
    "- Write Python code to solve the Monty Hall problem. Simulate at least a thousand games using three doors for each strategy and show the results in such a way as to make it easy to compare the effects of each strategy.\n"
   ]
  },
  {
   "cell_type": "code",
   "execution_count": 56,
   "metadata": {
    "colab": {},
    "colab_type": "code",
    "id": "GlZk3mKETQjg"
   },
   "outputs": [],
   "source": [
    "#Import everything we need to use\n",
    "\n",
    "%matplotlib inline\n",
    "import matplotlib\n",
    "import numpy as np\n",
    "import pandas as pd\n",
    "import matplotlib.pyplot as plt\n",
    "import random "
   ]
  },
  {
   "cell_type": "code",
   "execution_count": 78,
   "metadata": {},
   "outputs": [
    {
     "name": "stderr",
     "output_type": "stream",
     "text": [
      "/Users/Andrew/anaconda3/lib/python3.7/site-packages/numpy/core/fromnumeric.py:3118: RuntimeWarning: Mean of empty slice.\n",
      "  out=out, **kwargs)\n",
      "/Users/Andrew/anaconda3/lib/python3.7/site-packages/numpy/core/_methods.py:85: RuntimeWarning: invalid value encountered in double_scalars\n",
      "  ret = ret.dtype.type(ret / rcount)\n"
     ]
    }
   ],
   "source": [
    "#1000 simulations\n",
    "score_not_switching = []\n",
    "mean_not_switching = []\n",
    "score_switching = []\n",
    "mean_switching = []\n",
    "for i in range(1000): \n",
    "    #Randomly assign car and goats to numbers 1 - 3 which represent the doors and choose a door\n",
    "    door_chosen = random.randint(1,3)\n",
    "    door_car = random.randint(1,3)\n",
    "    options = [1,2,3]\n",
    "    \n",
    "    # If we chose the correct door, both the others have goats behind them\n",
    "    if door_chosen == door_car: \n",
    "        #Remove the door we chose \n",
    "        options.remove(door_chosen)\n",
    "        #Randomly choose one of the remaining two doors to open \n",
    "        door_open = np.random.choice(options)\n",
    "    \n",
    "        door_switch = options.remove(door_open)\n",
    "\n",
    "    #When they chose a goat to start, only one goat door remains\n",
    "    else: \n",
    "        #Remove the door we chose\n",
    "        options.remove(door_chosen)\n",
    "        #Remove the door with the car as we don't want to open that one\n",
    "        options.remove(door_car)\n",
    "        #Thus only one door left to open \n",
    "        door_open = options\n",
    "    \n",
    "        door_switch = door_car    \n",
    "        \n",
    "    if door_switch == door_car: \n",
    "        #print(\"Win\")\n",
    "        score_switching.append(1)\n",
    "        score_not_switching.append(0)\n",
    "        mean_switching.append(np.mean(score_switching))\n",
    "        mean_not_switching.append(np.mean(mean_not_switching))\n",
    "    else: \n",
    "        #print(\"Lose\")\n",
    "        score_switching.append(0)\n",
    "        score_not_switching.append(1)\n",
    "        mean_switching.append(np.mean(score_switching))\n",
    "        mean_not_switching.append(np.mean(score_not_switching))"
   ]
  },
  {
   "cell_type": "code",
   "execution_count": 102,
   "metadata": {},
   "outputs": [
    {
     "data": {
      "image/png": "[encoded data removed]",
      "text/plain": [
       "<Figure size 432x288 with 2 Axes>"
      ]
     },
     "metadata": {
      "needs_background": "light"
     },
     "output_type": "display_data"
    }
   ],
   "source": [
    "#Bar graph showing the results of switching doors\n",
    "df_switching = pd.DataFrame(score_switching,columns=['Result'])\n",
    "df_switching_bar = df_switching.groupby('Result').size()\n",
    "#bar_switching = df_switching_bar.plot(kind='bar')\n",
    "\n",
    "#Bar graph showing the results of not switching doors \n",
    "df_not_switching = pd.DataFrame(score_not_switching,columns=['Result'])\n",
    "df_not_switching_bar = df_not_switching.groupby('Result').size()\n",
    "#bar_not_switching = df_not_switching_bar.plot(kind='bar')\n",
    "\n",
    "fig, ax = plt.subplots(1,2)\n",
    "df_switching_bar.plot(kind='bar', ax=ax[0], title='Switching Doors')\n",
    "df_not_switching_bar.plot(kind='bar', ax=ax[1], title='Not Switching Doors')\n",
    "plt.setp(ax, xticks=[0,1], xticklabels=['Lose','Win'])\n",
    "plt.tight_layout()\n",
    "plt.show()"
   ]
  },
  {
   "cell_type": "code",
   "execution_count": 118,
   "metadata": {},
   "outputs": [
    {
     "data": {
      "image/png": "[encoded data removed]",
      "text/plain": [
       "<Figure size 432x288 with 1 Axes>"
      ]
     },
     "metadata": {
      "needs_background": "light"
     },
     "output_type": "display_data"
    }
   ],
   "source": [
    "#mean_switching\n",
    "#mean_not_switching\n",
    "df_mean_switching = pd.DataFrame(mean_switching,columns=['Switching'])\n",
    "df_mean_not_switching = pd.DataFrame(mean_not_switching,columns=['Not Switching'])\n",
    "df_mean_not_switching.fillna(method='ffill',inplace=True)\n",
    "\n",
    "ax = df_mean_switching.plot()\n",
    "df_mean_not_switching.plot(ax=ax)\n",
    "plt.title('Running average of chances to win a car')\n",
    "plt.show()"
   ]
  },
  {
   "cell_type": "markdown",
   "metadata": {},
   "source": [
    "You can see from the above chart that over time (simulations) your chances of winning the car greatly improve when you switch your chose of door vs. staying with your initial selection "
   ]
  },
  {
   "cell_type": "code",
   "execution_count": null,
   "metadata": {},
   "outputs": [],
   "source": []
  }
 ],
 "metadata": {
  "colab": {
   "name": "Assignment 2.ipynb",
   "provenance": [],
   "version": "0.3.2"
  },
  "kernelspec": {
   "display_name": "Python 3",
   "language": "python",
   "name": "python3"
  },
  "language_info": {
   "codemirror_mode": {
    "name": "ipython",
    "version": 3
   },
   "file_extension": ".py",
   "mimetype": "text/x-python",
   "name": "python",
   "nbconvert_exporter": "python",
   "pygments_lexer": "ipython3",
   "version": "3.7.3"
  }
 },
 "nbformat": 4,
 "nbformat_minor": 1
}
