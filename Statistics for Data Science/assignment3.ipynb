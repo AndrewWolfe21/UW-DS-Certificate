{
 "cells": [
  {
   "cell_type": "markdown",
   "metadata": {
    "colab_type": "text",
    "id": "1oGjoWSWqQ77"
   },
   "source": [
    "## Assignment 3"
   ]
  },
  {
   "cell_type": "markdown",
   "metadata": {
    "colab_type": "text",
    "id": "-oi4JzShqQ78"
   },
   "source": [
    "This assignmemt is based on content discussed in module 3 and test basic concepts of probability theory and normalization in statistics."
   ]
  },
  {
   "cell_type": "markdown",
   "metadata": {
    "colab_type": "text",
    "id": "gjI1J5nXqQ79"
   },
   "source": [
    "## Learning outcomes"
   ]
  },
  {
   "cell_type": "markdown",
   "metadata": {
    "colab_type": "text",
    "id": "R9t0LyaqqQ7-"
   },
   "source": [
    "-   Work on problems of different distributions eg., binomial, gaussian \n",
    "-   Calculate z score \n",
    "-\t Make statistical inferences on given data\n",
    "-\t Construct a null and an alternate hypothesis\n",
    "-\t Find the p-value for a given hypothesis and T test statistic.\n"
   ]
  },
  {
   "cell_type": "markdown",
   "metadata": {
    "colab_type": "text",
    "id": "_lXvCMN_qQ7_"
   },
   "source": [
    "**Question 1**\n",
    "\n",
    "The Capital Asset Pricing Model (CAPM) is a financial model that assumes returns on a portfolio are normally distributed.  Suppose a portfolio has an average annual return of 14.7% (i.e., an average gain on 14.7%) with a standard deviation of 33%.  A return of 0% means the value of the portfolio doesn't change, a negative return means that the portfolio loses money, and a positive return means that the portfolio gains money. Determine the following:\n",
    "\n",
    "1. What percentage of years does this portfolio lose money, (i.e. have a return less than 0%)?\n",
    "2. What is the cutoff for the highest 15% of annual returns with this portfolio?\n",
    "\n",
    "See CAPM here https://en.wikipedia.org/wiki/Capital_asset_pricing_model "
   ]
  },
  {
   "cell_type": "code",
   "execution_count": 1,
   "metadata": {},
   "outputs": [],
   "source": [
    "import scipy.stats\n",
    "import math"
   ]
  },
  {
   "cell_type": "code",
   "execution_count": 2,
   "metadata": {},
   "outputs": [
    {
     "data": {
      "text/plain": [
       "0.3279956507031998"
      ]
     },
     "execution_count": 2,
     "metadata": {},
     "output_type": "execute_result"
    }
   ],
   "source": [
    "#Annual Return of 14.7%\n",
    "#Standard Deviation of 33%\n",
    "\n",
    "#1) What percentage of years does this portfolio lose money (i.e. have a return less than 0%\n",
    "\n",
    "scipy.stats.norm(14.7,33).cdf(0)"
   ]
  },
  {
   "cell_type": "markdown",
   "metadata": {},
   "source": [
    "In about 32.8% of the years the portfolio will have a negative return"
   ]
  },
  {
   "cell_type": "code",
   "execution_count": 3,
   "metadata": {},
   "outputs": [
    {
     "data": {
      "text/plain": [
       "48.90230185329506"
      ]
     },
     "execution_count": 3,
     "metadata": {},
     "output_type": "execute_result"
    }
   ],
   "source": [
    "#2) What is the cutoff for the highest 15% of annual returns with this portfolio\n",
    "\n",
    "scipy.stats.norm(14.7,33).ppf(0.85)"
   ]
  },
  {
   "cell_type": "markdown",
   "metadata": {},
   "source": [
    "15% of the returns will be 48.9% or higher"
   ]
  },
  {
   "cell_type": "markdown",
   "metadata": {
    "colab_type": "text",
    "id": "_l53E9BAqQ8A"
   },
   "source": [
    "**Question 2**\n",
    "\n",
    "Past experience indicates that because of low morale, a company loses 20 hours a year per employee due to lateness and abstenteeism.  Assume that the standard deviation of the population is 6 and normally distributed.\n",
    "\n",
    "The HR department implemented a new rewards system to increase employee morale, and after a few months it collected a random sample of 20 employees and the annualized absenteeism was 14.\n",
    "\n",
    "1. Could you confirm that the new rewards system was effective with a 90% confidence?\n",
    "2. An HR subject matter expert would be very happy if the program could reduce absenteeism by 20% (i.e. to 16 hours).  Given the current sampling parameters, what is the probability that the new rewards system reduced absenteeism to 16 hours and you miss it?\n",
    "3. Repeat part 1) and 2) with an α = 95% CI.\n",
    "4. Based on the answers in 3), is the sampling method good enough to identify a reduction from 20 to 16 hours if I use a confidence of 95%?\n",
    "5. What should the sample size be if you want β to be 5%"
   ]
  },
  {
   "cell_type": "code",
   "execution_count": 4,
   "metadata": {},
   "outputs": [
    {
     "data": {
      "text/plain": [
       "0.013059668917013078"
      ]
     },
     "execution_count": 4,
     "metadata": {},
     "output_type": "execute_result"
    }
   ],
   "source": [
    "#Company loses 20 hours a year per employee \n",
    "#std of the population is 6\n",
    "#Normally distributed \n",
    "\n",
    "#Random sample of 20 employees\n",
    "#Annualized absenteeism was 14 \n",
    "\n",
    "#1) New rewards system was effective with a 90% confidence\n",
    "\n",
    "(scipy.stats.t.cdf(((14-20)/(6/math.sqrt(20))),df=19))*100"
   ]
  },
  {
   "cell_type": "markdown",
   "metadata": {},
   "source": [
    "0.01% is a very small number, so you can not confirm that the new rewards system was effective with 90% confidence"
   ]
  },
  {
   "cell_type": "code",
   "execution_count": 25,
   "metadata": {},
   "outputs": [
    {
     "data": {
      "text/plain": [
       "0.9915194858448683"
      ]
     },
     "execution_count": 25,
     "metadata": {},
     "output_type": "execute_result"
    }
   ],
   "source": [
    "#2) Reduced absenteeism to 16 hours\n",
    "\n",
    "1 - scipy.stats.t.pdf(((16-20)/(6/math.sqrt(20))),df=19)"
   ]
  },
  {
   "cell_type": "markdown",
   "metadata": {},
   "source": [
    "The p value > confidence thus we accept the alternative hypothesis which is that the new system is not effective.\n",
    "Meaning we probably didn't miss that it reduced absenteeism to 16"
   ]
  },
  {
   "cell_type": "code",
   "execution_count": 26,
   "metadata": {},
   "outputs": [
    {
     "name": "stdout",
     "output_type": "stream",
     "text": [
      "0.013059668917013078\n",
      "0.9915194858448683\n"
     ]
    }
   ],
   "source": [
    "#3 / #4 \n",
    "print((scipy.stats.t.cdf(((14-20)/(6/math.sqrt(20))),df=19))*100)\n",
    "print(1-(scipy.stats.t.pdf(((16-20)/(6/math.sqrt(20))),df=19)))"
   ]
  },
  {
   "cell_type": "markdown",
   "metadata": {},
   "source": [
    "The results from above remain the same with a confidence interval of 95%. Note the sampling methods from above are not good enough based on the probability result being less than 5% for both "
   ]
  },
  {
   "cell_type": "code",
   "execution_count": 50,
   "metadata": {},
   "outputs": [
    {
     "data": {
      "text/plain": [
       "1.1984708372323225"
      ]
     },
     "execution_count": 50,
     "metadata": {},
     "output_type": "execute_result"
    }
   ],
   "source": [
    "#5) Sample size for beta to be 5%\n",
    "prob = scipy.stats.t.cdf(((14-20)/(6/math.sqrt(20))),df=19)\n",
    "z_score = scipy.stats.t.ppf(prob, df=19)\n",
    "z_score_beta = scipy.stats.t.cdf(1-0.05, df=19)\n",
    "(((z_score_beta + z_score)**2)*(6)**2)/(20)**2"
   ]
  },
  {
   "cell_type": "markdown",
   "metadata": {},
   "source": [
    "If we want it to be 5%, the sample size should be around 1"
   ]
  },
  {
   "cell_type": "markdown",
   "metadata": {
    "colab_type": "text",
    "id": "LOjrz6ycqQ8A"
   },
   "source": [
    "**Question 3**\n",
    "\n",
    "Chi-Square Goodness of fit\n",
    "\n",
    "Please access and review **section 6.3.5** in the OpenIntro Statistics textbook:\n",
    "\n",
    "Diez, D., Barr, C. & Çetinkaya-Rundel, M. (2017). OpenIntro Statistics (3rd Ed.). https://www.openintro.org/stat/textbook.php?stat_book=os\n",
    "\n",
    "Given the information in section 6.3.5, write python code for the following:\n",
    "\n",
    " - Calculate the expected values based on the geometric distribution with a probability of 53.2%\n",
    " - Compare the expected vs. the observed values from the textbook using the Chi-Square distribution\n",
    " - Reach a conclusion\n",
    " - Explain what is the business impact of your conclusion"
   ]
  },
  {
   "cell_type": "code",
   "execution_count": 69,
   "metadata": {
    "colab": {},
    "colab_type": "code",
    "id": "hSKqK4gZqQ8B"
   },
   "outputs": [],
   "source": [
    "import pandas as pd\n",
    "#your work here\n",
    "#Days -> Observed\n",
    "#1 -> 717, 2 -> 369, 3 -> 155, 4 -> 69, 5 -> 28, 6 -> 14, 7+ -> 10, total = 1362\n",
    "observed = {'Days':[1,2,3,4,5,6,7], \n",
    "               'Observed':[717,369,155,69,28,14,10]}\n",
    "df_observed = pd.DataFrame(observed)\n",
    "#Days -> Geometric\n",
    "#1 -> 743, 2 -> 338, 3 -> 154, 4 -> 70, 5 -> 32, 6 -> 14, 7+ -> 12, total = 1362"
   ]
  },
  {
   "cell_type": "code",
   "execution_count": 65,
   "metadata": {},
   "outputs": [
    {
     "name": "stdout",
     "output_type": "stream",
     "text": [
      "Expected value for Day 1: 724.5840000000001\n",
      "Expected value for Day 2: 339.105312\n",
      "Expected value for Day 3: 158.70128601599998\n",
      "Expected value for Day 4: 74.27220185548799\n",
      "Expected value for Day 5: 34.75939046836838\n",
      "Expected value for Day 6: 16.2673947391964\n",
      "Expected value for Day 7+: 7.613140737943915\n"
     ]
    }
   ],
   "source": [
    "#Calculating expected values based on geometric distribution w a prod of 53.2%\n",
    "print(\"Expected value for Day 1:\",(((1-0.532)**(1-1))*(0.532))*1362)\n",
    "print(\"Expected value for Day 2:\",(((1-0.532)**(2-1))*(0.532))*1362)\n",
    "print(\"Expected value for Day 3:\",(((1-0.532)**(3-1))*(0.532))*1362)\n",
    "print(\"Expected value for Day 4:\",(((1-0.532)**(4-1))*(0.532))*1362)\n",
    "print(\"Expected value for Day 5:\",(((1-0.532)**(5-1))*(0.532))*1362)\n",
    "print(\"Expected value for Day 6:\",(((1-0.532)**(6-1))*(0.532))*1362)\n",
    "print(\"Expected value for Day 7+:\",(((1-0.532)**(7-1))*(0.532))*1362)"
   ]
  },
  {
   "cell_type": "code",
   "execution_count": 81,
   "metadata": {},
   "outputs": [
    {
     "name": "stdout",
     "output_type": "stream",
     "text": [
      "For expected: chi2_stat of 264.1192095146861  p_value of  3.9294282492745334e-54 degrees of freedom of  6\n",
      "For observed: chi2_stat of 261.63674099269497  p_value of  1.3342906314572928e-53 degrees of freedom of  6\n"
     ]
    }
   ],
   "source": [
    "#Compare the expected vs. the observed values using the Chi-Square Distribution \n",
    "expected = {'Days':[1,2,3,4,5,6,7], \n",
    "               'Observed':[725,339,159,74,35,16,8]}\n",
    "df_expected = pd.DataFrame(expected)\n",
    "\n",
    "chi2_stat, p_val, dof, ex = scipy.stats.chi2_contingency(df_expected)\n",
    "print(\"For expected: chi2_stat of\",chi2_stat,\" p_value of \", p_val, \"degrees of freedom of \", dof)\n",
    "chi2, p, df, ex = scipy.stats.chi2_contingency(df_observed)\n",
    "print(\"For observed: chi2_stat of\",chi2,\" p_value of \", p, \"degrees of freedom of \", df)"
   ]
  },
  {
   "cell_type": "markdown",
   "metadata": {},
   "source": [
    "The null hypothesis is that the stock market being up or down on a given day is independent from all other days.\n",
    "The p value of both the expected and observed is less than 0.05 there we reject the null hypothesis"
   ]
  },
  {
   "cell_type": "markdown",
   "metadata": {},
   "source": [
    "What does rejecting the null hypothesis mean from a business impact perspective?\n",
    "This means that the stock market being up or down on a given day depends on the other days as market conditions can continue day over day for longer periods. "
   ]
  },
  {
   "cell_type": "code",
   "execution_count": null,
   "metadata": {},
   "outputs": [],
   "source": []
  }
 ],
 "metadata": {
  "colab": {
   "collapsed_sections": [],
   "name": "Assignment 3v.3.ipynb",
   "provenance": [],
   "version": "0.3.2"
  },
  "kernelspec": {
   "display_name": "Python 3",
   "language": "python",
   "name": "python3"
  },
  "language_info": {
   "codemirror_mode": {
    "name": "ipython",
    "version": 3
   },
   "file_extension": ".py",
   "mimetype": "text/x-python",
   "name": "python",
   "nbconvert_exporter": "python",
   "pygments_lexer": "ipython3",
   "version": "3.7.3"
  }
 },
 "nbformat": 4,
 "nbformat_minor": 1
}
